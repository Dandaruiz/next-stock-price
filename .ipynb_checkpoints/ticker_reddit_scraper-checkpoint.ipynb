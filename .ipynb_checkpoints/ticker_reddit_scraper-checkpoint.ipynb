{
 "cells": [
  {
   "cell_type": "code",
   "execution_count": 2,
   "metadata": {},
   "outputs": [
    {
     "ename": "ModuleNotFoundError",
     "evalue": "No module named 'pandas'",
     "output_type": "error",
     "traceback": [
      "\u001b[0;31m---------------------------------------------------------------------------\u001b[0m",
      "\u001b[0;31mModuleNotFoundError\u001b[0m                       Traceback (most recent call last)",
      "\u001b[0;32m<ipython-input-2-a6b72dee634d>\u001b[0m in \u001b[0;36m<module>\u001b[0;34m\u001b[0m\n\u001b[1;32m      1\u001b[0m \u001b[0;32mimport\u001b[0m \u001b[0mpraw\u001b[0m\u001b[0;34m\u001b[0m\u001b[0;34m\u001b[0m\u001b[0m\n\u001b[1;32m      2\u001b[0m \u001b[0;32mimport\u001b[0m \u001b[0mre\u001b[0m\u001b[0;34m\u001b[0m\u001b[0;34m\u001b[0m\u001b[0m\n\u001b[0;32m----> 3\u001b[0;31m \u001b[0;32mimport\u001b[0m \u001b[0mpandas\u001b[0m \u001b[0;32mas\u001b[0m \u001b[0mpd\u001b[0m\u001b[0;34m\u001b[0m\u001b[0;34m\u001b[0m\u001b[0m\n\u001b[0m\u001b[1;32m      4\u001b[0m \u001b[0;32mimport\u001b[0m \u001b[0mconfig\u001b[0m\u001b[0;34m\u001b[0m\u001b[0;34m\u001b[0m\u001b[0m\n\u001b[1;32m      5\u001b[0m \u001b[0;32mdef\u001b[0m \u001b[0mget_tickers\u001b[0m\u001b[0;34m(\u001b[0m\u001b[0;34m)\u001b[0m\u001b[0;34m:\u001b[0m\u001b[0;34m\u001b[0m\u001b[0;34m\u001b[0m\u001b[0m\n",
      "\u001b[0;31mModuleNotFoundError\u001b[0m: No module named 'pandas'"
     ]
    }
   ],
   "source": [
    "import praw\n",
    "import re\n",
    "import pandas as pd\n",
    "import config\n",
    "def get_tickers():\n",
    "    reddit = praw.Reddit(\n",
    "        client_id= 'U4U3Cms2TTsMag',\n",
    "        client_secret= 'ESq-DnHNKuqrKL-vyBuR-RfvMKXLQw',\n",
    "        user_agent=\"stock ticker scraper\",\n",
    "    )\n",
    "    to_buy = []\n",
    "    to_sell = []\n",
    "    prev = open(\"prev.txt\", \"w+\")\n",
    "    prev_tickers = prev.readlines()\n",
    "    prev_tickers = [x.strip() for x in prev_tickers]\n",
    "    weekly_tickers = {}\n",
    "    regex_pattern = r'\\b([A-Z]+)\\b'\n",
    "    phrases = {}\n",
    "    ticker_dict = {}\n",
    "    filelist = [\"list1.csv\", \"list2.csv\", \"list3.csv\"]\n",
    "    for file in filelist:\n",
    "        tl = pd.read_csv(file, skiprows=0, skip_blank_lines=True)\n",
    "        tl = tl[tl.columns[0]].tolist()\n",
    "        for ticker in tl:\n",
    "            ticker_dict[ticker] = 1\n",
    "    blacklist = [\"A\", \"I\", \"DD\", \"WSB\", \"YOLO\", \"RH\"]\n",
    "    for submission in reddit.subreddit(\"wallstreetbets\").top(\"week\"):\n",
    "        strings = [submission.title]\n",
    "        submission.comments.replace_more(limit=0)\n",
    "        for comment in submission.comments.list():\n",
    "            strings.append(comment.body)\n",
    "        for s in strings:\n",
    "            for phrase in re.findall(regex_pattern, s):\n",
    "                if phrase not in blacklist:\n",
    "                    if ticker_dict.get(phrase) == 1:\n",
    "                        if weekly_tickers.get(phrase) is None:\n",
    "                            weekly_tickers[phrase] = 1\n",
    "                        else:\n",
    "                            weekly_tickers[phrase] += 1\n",
    "    top_tickers = sorted(weekly_tickers, key=weekly_tickers.get, reverse=True)[:5]\n",
    "    for new in top_tickers:\n",
    "        if new not in prev_tickers:\n",
    "            to_buy.append(new+'\\n')\n",
    "    for old in prev_tickers:\n",
    "        if old not in top_tickers:\n",
    "            to_sell.append(old+'\\n')\n",
    "\n",
    "    prev.writelines(top_tickers)\n",
    "    prev.close()\n",
    "    return to_buy, to_sell\n",
    "\n",
    "\n",
    "def main():\n",
    "    to_buy, to_sell = get_tickers()\n",
    "    buy = open(\"toBuy.txt\", \"w\")\n",
    "    sell = open(\"toSell.txt\", \"w\")\n",
    "    buy.writelines(to_buy)\n",
    "    sell.writelines(to_sell)\n",
    "    buy.close()\n",
    "    sell.close()\n",
    "\n",
    "\n",
    "if __name__ == '__main__':\n",
    "    main()"
   ]
  },
  {
   "cell_type": "code",
   "execution_count": null,
   "metadata": {},
   "outputs": [],
   "source": []
  },
  {
   "cell_type": "code",
   "execution_count": null,
   "metadata": {},
   "outputs": [],
   "source": []
  }
 ],
 "metadata": {
  "kernelspec": {
   "display_name": "Python 3",
   "language": "python",
   "name": "python3"
  },
  "language_info": {
   "codemirror_mode": {
    "name": "ipython",
    "version": 3
   },
   "file_extension": ".py",
   "mimetype": "text/x-python",
   "name": "python",
   "nbconvert_exporter": "python",
   "pygments_lexer": "ipython3",
   "version": "3.7.4"
  }
 },
 "nbformat": 4,
 "nbformat_minor": 4
}
