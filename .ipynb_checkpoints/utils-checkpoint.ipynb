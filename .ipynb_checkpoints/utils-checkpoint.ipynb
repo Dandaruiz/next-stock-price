{
 "cells": [
  {
   "cell_type": "code",
   "execution_count": 1,
   "metadata": {},
   "outputs": [],
   "source": [
    "import requests\n",
    "\n",
    "\n",
    "history_points = 20\n",
    "\n",
    "def preprocess_data(ticker):\n",
    "    data = get_data_from_source(self, ticker);\n",
    "    \n",
    "    data_normaliser = preprocessing.MinMaxScaler()\n",
    "    data_normalised = data_normaliser.fit_transform(data)\n",
    "\n",
    "    historical_data_normalised = np.array([data_normalised[i:i + history_points].copy() for i in range(len(data_normalised) - history_points)])\n",
    "    next_day_open_values_normalised = np.array([data_normalised[:, 0][i + history_points].copy() for i in range(len(data_normalised) - history_points)])\n",
    "    next_day_open_values_normalised = np.expand_dims(next_day_open_values_normalised, -1)\n",
    "\n",
    "    next_day_open_values = np.array([data[:, 0][i + history_points].copy() for i in range(len(data) - history_points)])\n",
    "    next_day_open_values = np.expand_dims(next_day_open_values, -1)\n",
    "\n",
    "    y_normaliser = preprocessing.MinMaxScaler()\n",
    "    y_normaliser.fit(next_day_open_values)\n",
    "    \n",
    "    assert historical_data_normalised.shape[0] == next_day_open_values_normalised.shape[0]\n",
    "    return ohlcv_histories_normalised, next_day_open_values_normalised, next_day_open_values, y_normaliser\n",
    "\n",
    "def get_data_from_source(self, ticker):\n",
    "    url = 'https://api.polygon.io/v2/aggs/ticker/{}/range/1/day/2015-01-01/2020-12-18?apiKey=jXuS6onzWtfNEkQhMJyrCty0ZQIgPsi5'.format(ticker)\n",
    "    response_data = requests.get(url)\n",
    "    results = response_data.json()['results']\n",
    "    results = map(lambda day: [day['o'], day['h'], day['l'], day['c'], day['v']], results)\n",
    "    results = list(results)\n",
    "\n",
    "    return np.array(results)"
   ]
  },
  {
   "cell_type": "code",
   "execution_count": null,
   "metadata": {},
   "outputs": [],
   "source": []
  }
 ],
 "metadata": {
  "kernelspec": {
   "display_name": "Python 3",
   "language": "python",
   "name": "python3"
  },
  "language_info": {
   "codemirror_mode": {
    "name": "ipython",
    "version": 3
   },
   "file_extension": ".py",
   "mimetype": "text/x-python",
   "name": "python",
   "nbconvert_exporter": "python",
   "pygments_lexer": "ipython3",
   "version": "3.7.4"
  }
 },
 "nbformat": 4,
 "nbformat_minor": 4
}
